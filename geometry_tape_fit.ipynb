{
 "cells": [
  {
   "cell_type": "code",
   "execution_count": 1,
   "metadata": {},
   "outputs": [],
   "source": [
    "import numpy as np\n",
    "from scipy.spatial.transform import Rotation \n",
    "from scipy.optimize import minimize"
   ]
  },
  {
   "cell_type": "code",
   "execution_count": 2,
   "metadata": {},
   "outputs": [],
   "source": [
    "class Horn:\n",
    "    def __init__(self,phi=-30):\n",
    "        self.set_phi(phi)\n",
    "        \n",
    "    def set_phi(self,phi_deg):\n",
    "        phi_rad = phi_deg/180.*np.pi\n",
    "        dh = 69.0\n",
    "        dv = 69.1\n",
    "        p1 = [-dh/2,0,0]\n",
    "        p2 = [+dh/2,0,0]\n",
    "        p3 = [+dh/2, dv*np.sin(phi_rad),-dv*np.cos(phi_rad)]\n",
    "        p4 = [-dh/2, dv*np.sin(phi_rad),-dv*np.cos(phi_rad)]\n",
    "        self.points = [np.array(p) for p in [p1,p2,p3,p4]]\n",
    "    \n",
    "class Dish:\n",
    "    def __init__(self, x0, y0, z0, alpha, beta, f, dphi, r0, r1):\n",
    "        self.set_params(x0, y0, z0, alpha, beta, f, dphi, r0, r1)\n",
    "    \n",
    "    def set_params(self,x0,y0,z0,alpha,beta, f, dphi, r0, r1):\n",
    "        ofs = np.array([x0,y0,z0])        \n",
    "        ## petal from center, upring\n",
    "        points_pet = [ (4,4), (5,3), (5,2), (5,1), (0,1), (-5,1), (-5,2), (-5,3), (-4,4)]\n",
    "        dphi_rad = dphi/180*np.pi\n",
    "        def get_point ( petal, upright, f):\n",
    "            r = r0+(upright-1)*r1\n",
    "            x = r*np.sin(dphi_rad*petal)\n",
    "            y = r*np.cos(dphi_rad*petal)\n",
    "            z = r*r/(4*np.abs(f))\n",
    "            #print (r,x,y,z,dphi_rad, petal, upright)\n",
    "            #stop()\n",
    "            return np.array([x,y,z])\n",
    "        \n",
    "        points_xyz = [get_point(petal, upright,f) for petal,upright in points_pet]\n",
    "        #print (points_xyz)\n",
    "        #stop()\n",
    "        ## now rotate them by alpha,beta and offset\n",
    "        R = Rotation.from_euler('zy',[alpha,beta],degrees=True).as_matrix()   \n",
    "        points_xyz = [np.dot(R,p)+ofs for p in points_xyz]\n",
    "        self.points_xyz = points_xyz\n",
    "    \n",
    "def predict_measurements(vec):\n",
    "    H = Horn(vec[0])\n",
    "    pH = H.points\n",
    "    D = Dish(*vec[1:])    \n",
    "    pD = D.points_xyz\n",
    "    #print (pD)\n",
    "    def dist(p1,p2):\n",
    "        return np.sqrt(np.sum((p1-p2)**2))\n",
    "    pred = np.array([[dist(p1,p2) for p1 in pH] for p2 in pD])\n",
    "    return pred\n",
    "\n",
    "        "
   ]
  },
  {
   "cell_type": "code",
   "execution_count": 3,
   "metadata": {},
   "outputs": [],
   "source": [
    "measurements = np.array([\n",
    "    [376.6, 337.0, 353.2, 390.8],\n",
    "    [331.3, 291.8, 284.1, 324.1],\n",
    "    [296.7, 269.2, 240.1, 269.5],\n",
    "    [282.3, 271.1, 222.5, 235.6],    \n",
    "    [272.5, 272.7, 228.3, 227.9],\n",
    "    [270.0, 282.0, 236.5, 221.7],\n",
    "    [266.7, 293.8, 269.4, 238.3],\n",
    "    [288.3, 327.1, 323.1, 283.3],\n",
    "    [333.7, 372.1, 389.4, 353.0]\n",
    "])\n",
    "\n"
   ]
  },
  {
   "cell_type": "code",
   "execution_count": 4,
   "metadata": {},
   "outputs": [
    {
     "data": {
      "text/plain": [
       "array([[375.05267932, 337.0561298 , 353.32073206, 389.73480386],\n",
       "       [328.26636847, 289.49705065, 282.30470812, 321.94132162],\n",
       "       [292.69453502, 265.68833905, 235.91740086, 265.96393995],\n",
       "       [277.48324218, 266.05943205, 216.46932237, 230.36556999],\n",
       "       [268.19220507, 268.19220507, 222.38079332, 222.38079332],\n",
       "       [266.05943205, 277.48324218, 230.36556999, 216.46932237],\n",
       "       [265.68833905, 292.69453502, 265.96393995, 235.91740086],\n",
       "       [289.49705065, 328.26636847, 321.94132162, 282.30470812],\n",
       "       [337.0561298 , 375.05267932, 389.73480386, 353.32073206]])"
      ]
     },
     "execution_count": 4,
     "metadata": {},
     "output_type": "execute_result"
    }
   ],
   "source": [
    "# phi, x0,y0,z0,alpha,beta,f,dphi\n",
    "start = np.array([-40, 0,-60,-270,0,0,290.,8., 70.,100.])\n",
    "sigma = 0.3 ## sigma err in cm\n",
    "predict_measurements(start)"
   ]
  },
  {
   "cell_type": "code",
   "execution_count": 5,
   "metadata": {},
   "outputs": [],
   "source": [
    "\n",
    "def chi2 (vec):\n",
    "    pred = predict_measurements(vec)\n",
    "    chi2 = ((pred-measurements)**2/sigma**2).sum()\n",
    "    return chi2\n",
    "\n",
    "\n"
   ]
  },
  {
   "cell_type": "code",
   "execution_count": 6,
   "metadata": {},
   "outputs": [
    {
     "data": {
      "text/plain": [
       "32.48924940317231"
      ]
     },
     "execution_count": 6,
     "metadata": {},
     "output_type": "execute_result"
    }
   ],
   "source": [
    "fit = minimize(chi2,start,tol=1e-2)\n",
    "fit.fun"
   ]
  },
  {
   "cell_type": "code",
   "execution_count": 7,
   "metadata": {},
   "outputs": [
    {
     "data": {
      "text/plain": [
       "array([[376.36740329, 336.64920111, 353.15657647, 391.20238389],\n",
       "       [331.12361833, 291.62183783, 284.10900869, 324.52655228],\n",
       "       [296.48003657, 269.6473988 , 239.96970648, 269.77055516],\n",
       "       [282.23342035, 271.70004724, 222.90370329, 235.62862481],\n",
       "       [272.10821628, 272.77118813, 228.11492211, 227.32174991],\n",
       "       [269.86660286, 281.93957419, 236.10919936, 221.55273383],\n",
       "       [266.79405748, 294.26745065, 269.12874985, 238.7802768 ],\n",
       "       [288.14559669, 327.32478389, 323.02644421, 283.25333962],\n",
       "       [333.95348902, 371.95070379, 389.18640798, 353.0490999 ]])"
      ]
     },
     "execution_count": 7,
     "metadata": {},
     "output_type": "execute_result"
    }
   ],
   "source": [
    "predict_measurements(fit.x)"
   ]
  },
  {
   "cell_type": "code",
   "execution_count": 8,
   "metadata": {},
   "outputs": [
    {
     "data": {
      "text/plain": [
       "Text(0, 0.5, 'residuals [cm]')"
      ]
     },
     "execution_count": 8,
     "metadata": {},
     "output_type": "execute_result"
    },
    {
     "data": {
      "image/png": "[encoded data removed]",
      "text/plain": [
       "<Figure size 432x288 with 1 Axes>"
      ]
     },
     "metadata": {
      "needs_background": "light"
     },
     "output_type": "display_data"
    }
   ],
   "source": [
    "plt.plot(predict_measurements(fit.x)-measurements,'-o')\n",
    "plt.xlabel('point')\n",
    "plt.ylabel('residuals [cm]')"
   ]
  },
  {
   "cell_type": "code",
   "execution_count": 9,
   "metadata": {},
   "outputs": [
    {
     "name": "stdout",
     "output_type": "stream",
     "text": [
      "phi = -42.71 +/- 0.44\n",
      "x0 = -4.28 +/- 0.51\n",
      "y0 = -66.40 +/- 1.91\n",
      "z0 = -274.38 +/- 0.20\n",
      "alpha = -1.30 +/- 0.16\n",
      "beta = 1.25 +/- 0.11\n",
      "f = 288.44 +/- 5.73\n",
      "theta = 8.13 +/- 0.05\n",
      "r0 = 69.57 +/- 1.17\n",
      "r1 = 100.81 +/- 0.28\n"
     ]
    }
   ],
   "source": [
    "vals = fit.x\n",
    "errs=np.sqrt((fit.hess_inv.diagonal())*2)\n",
    "names = 'phi x0 y0 z0 alpha beta f theta r0 r1'.split()\n",
    "for n,v,e in zip(names,vals, errs):\n",
    "    print (f\"{n} = {v:.2f} +/- {e:.2f}\")"
   ]
  },
  {
   "cell_type": "code",
   "execution_count": null,
   "metadata": {},
   "outputs": [],
   "source": []
  }
 ],
 "metadata": {
  "kernelspec": {
   "display_name": "Python 3",
   "language": "python",
   "name": "python3"
  },
  "language_info": {
   "codemirror_mode": {
    "name": "ipython",
    "version": 3
   },
   "file_extension": ".py",
   "mimetype": "text/x-python",
   "name": "python",
   "nbconvert_exporter": "python",
   "pygments_lexer": "ipython3",
   "version": "3.8.5"
  }
 },
 "nbformat": 4,
 "nbformat_minor": 4
}
