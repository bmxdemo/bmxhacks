{
 "cells": [
  {
   "cell_type": "code",
   "execution_count": 1,
   "metadata": {},
   "outputs": [],
   "source": [
    "import numpy as np\n",
    "import matplotlib.pyplot as plt\n",
    "from scipy.optimize import fmin, minimize\n",
    "import bmxobs\n",
    "from matplotlib.colors import LogNorm"
   ]
  },
  {
   "cell_type": "code",
   "execution_count": null,
   "metadata": {},
   "outputs": [],
   "source": [
    "class Beam:\n",
    "    def __init__(self, ra, ra_star, delta_ra, sigma, k, l):\n",
    "        self.set_params(ra, ra_star, delta_ra, sigma, k, l)\n",
    "    \n",
    "    def set_params(ra, ra_star, delta_ra, sigma, k, l):\n",
    "        b = self.gauss(ra-ra_star, delta_ra, sigma)\n",
    "        ...\n",
    "        \n",
    "    def gauss(ra, delta_ra, sigma):\n",
    "        return 1/sqrt(2*np.pi*sigma**2) * exp(-(ra-delta_ra)**2/(2*sigma**2))\n",
    "    \n",
    "class Telescope:\n",
    "    def __init__(self, Beam, d_data, t_data, freq, cen_freq, A0, A1, N0, N1):\n",
    "        self.Beam = Beam\n",
    "        self.d_data = d_data\n",
    "        self.t_data = t_data\n",
    "        self.set_params(k, l, freq, cen_freq, A0, A1, N0, N1)\n",
    "        \n",
    "    def set_params(k, l, freq, cen_freq, A0, A1, N0, N1):\n",
    "        A = A0 + A1(freq - cen_freq)\n",
    "        N = N0 + N1(freq - cen_freq)\n",
    "        ...\n",
    "        \n",
    "    def predict_source(self, A, d_data):\n",
    "        self.A = A\n",
    "        B = Beam(*vec[:6])\n",
    "        ...\n",
    "        \n",
    "    def chi2(self, vec):\n",
    "        pred = self.predict_source(A, vec)\n",
    "        chisq = ((pred-self.t_data)**2/sigma**2).sum()\n",
    "        return chisq\n",
    "    \n",
    "    def fit(self, vec):\n",
    "        return minimize(self.chi2, vec)"
   ]
  }
 ],
 "metadata": {
  "kernelspec": {
   "display_name": "Bacon (BNL Astro Conda)",
   "language": "python",
   "name": "bacon"
  },
  "language_info": {
   "codemirror_mode": {
    "name": "ipython",
    "version": 3
   },
   "file_extension": ".py",
   "mimetype": "text/x-python",
   "name": "python",
   "nbconvert_exporter": "python",
   "pygments_lexer": "ipython3",
   "version": "3.8.5"
  }
 },
 "nbformat": 4,
 "nbformat_minor": 4
}
