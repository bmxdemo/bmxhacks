{
 "cells": [
  {
   "cell_type": "markdown",
   "metadata": {},
   "source": [
    "## BMX Ring Buffer Load Demo\n",
    "\n",
    "You need the bmxdata module which you get by downloading\n",
    "\n",
    "https://github.com/bmxdemo/bmxdaq/\n",
    "\n",
    "and running `python setup.py install` or `pip install bmxdaq/`"
   ]
  },
  {
   "cell_type": "code",
   "execution_count": 10,
   "metadata": {},
   "outputs": [
    {
     "name": "stdout",
     "output_type": "stream",
     "text": [
      "The autoreload extension is already loaded. To reload it, use:\n",
      "  %reload_ext autoreload\n"
     ]
    }
   ],
   "source": [
    "%load_ext autoreload\n",
    "%autoreload 2\n",
    "import bmxdata\n",
    "import numpy as np\n",
    "import matplotlib.pyplot as plt\n",
    "from numpy.fft import rfft, irfft"
   ]
  },
  {
   "cell_type": "code",
   "execution_count": 4,
   "metadata": {},
   "outputs": [
    {
     "data": {
      "text/plain": [
       "'/gpfs02/astro/packages/bacon/latest/lib/python3.8/site-packages/bmxdata.py'"
      ]
     },
     "execution_count": 4,
     "metadata": {},
     "output_type": "execute_result"
    }
   ],
   "source": [
    "bmxdata.__file__\n"
   ]
  },
  {
   "cell_type": "code",
   "execution_count": 5,
   "metadata": {},
   "outputs": [
    {
     "name": "stdout",
     "output_type": "stream",
     "text": [
      "Loading version: 1\n",
      "Ncards: 2 Size: 2147483648\n"
     ]
    }
   ],
   "source": [
    "# Load data\n",
    "d = bmxdata.BMXRingbuffer('/astro/u/anze/bmxdata/raw/2011/ring/201107_225100_D1.ring')"
   ]
  },
  {
   "cell_type": "code",
   "execution_count": 6,
   "metadata": {},
   "outputs": [
    {
     "name": "stdout",
     "output_type": "stream",
     "text": [
      "(2147483648,) int8\n"
     ]
    }
   ],
   "source": [
    "# the four channels are stored in d.datad0c1, d.datad0c2, d.datad1c1, d.daatad1c2\n",
    "# where d1c1 means channel one on digitizer 1\n",
    "# Yes, we use C counting for digitizer cards and Fortran counting for channels\n",
    "print (d.datad0c1.shape, d.datad0c1.dtype)"
   ]
  },
  {
   "cell_type": "code",
   "execution_count": 7,
   "metadata": {},
   "outputs": [
    {
     "data": {
      "text/plain": [
       "Text(0, 0.5, 'ADC units')"
      ]
     },
     "execution_count": 7,
     "metadata": {},
     "output_type": "execute_result"
    },
    {
     "data": {
      "image/png": "[encoded data removed]",
      "text/plain": [
       "<Figure size 432x288 with 1 Axes>"
      ]
     },
     "metadata": {
      "needs_background": "light"
     },
     "output_type": "display_data"
    }
   ],
   "source": [
    "# plot some real data\n",
    "plt.plot(d.datad0c1[:200],'bo-')\n",
    "plt.xlabel(\"sample num\")\n",
    "plt.ylabel(\"ADC units\")"
   ]
  },
  {
   "cell_type": "code",
   "execution_count": 8,
   "metadata": {},
   "outputs": [
    {
     "ename": "AttributeError",
     "evalue": "'BMXRingbuffer' object has no attribute 'getPS'",
     "output_type": "error",
     "traceback": [
      "\u001b[0;31m---------------------------------------------------------------------------\u001b[0m",
      "\u001b[0;31mAttributeError\u001b[0m                            Traceback (most recent call last)",
      "\u001b[0;32m<ipython-input-8-c656710a8ad6>\u001b[0m in \u001b[0;36m<module>\u001b[0;34m\u001b[0m\n\u001b[1;32m      1\u001b[0m \u001b[0;31m# get power spectrum on the channel 0,1 and cross, just first 3 chunks for speed\u001b[0m\u001b[0;34m\u001b[0m\u001b[0;34m\u001b[0m\u001b[0;34m\u001b[0m\u001b[0m\n\u001b[0;32m----> 2\u001b[0;31m \u001b[0mfreq\u001b[0m\u001b[0;34m,\u001b[0m\u001b[0mps\u001b[0m \u001b[0;34m=\u001b[0m \u001b[0md\u001b[0m\u001b[0;34m.\u001b[0m\u001b[0mgetPS\u001b[0m\u001b[0;34m(\u001b[0m\u001b[0mcombs\u001b[0m\u001b[0;34m=\u001b[0m\u001b[0;34m[\u001b[0m\u001b[0;34m(\u001b[0m\u001b[0;36m0\u001b[0m\u001b[0;34m,\u001b[0m\u001b[0;36m0\u001b[0m\u001b[0;34m)\u001b[0m\u001b[0;34m,\u001b[0m\u001b[0;34m(\u001b[0m\u001b[0;36m1\u001b[0m\u001b[0;34m,\u001b[0m\u001b[0;36m1\u001b[0m\u001b[0;34m)\u001b[0m\u001b[0;34m,\u001b[0m\u001b[0;34m(\u001b[0m\u001b[0;36m0\u001b[0m\u001b[0;34m,\u001b[0m\u001b[0;36m1\u001b[0m\u001b[0;34m)\u001b[0m\u001b[0;34m]\u001b[0m\u001b[0;34m,\u001b[0m \u001b[0mNchunks\u001b[0m \u001b[0;34m=\u001b[0m \u001b[0;36m3\u001b[0m\u001b[0;34m)\u001b[0m\u001b[0;34m\u001b[0m\u001b[0;34m\u001b[0m\u001b[0m\n\u001b[0m",
      "\u001b[0;31mAttributeError\u001b[0m: 'BMXRingbuffer' object has no attribute 'getPS'"
     ]
    }
   ],
   "source": [
    "# get power spectrum on the channel 0,1 and cross, just first 3 chunks for speed\n",
    "freq,ps = d.getPS(combs=[(0,0),(1,1),(0,1)], Nchunks = 3)"
   ]
  },
  {
   "cell_type": "code",
   "execution_count": null,
   "metadata": {},
   "outputs": [],
   "source": [
    "plt.plot(freq,ps[0],label = 'CHAN = 0')\n",
    "plt.plot(freq,ps[1],label = 'CHAN = 1')\n",
    "plt.plot(freq,np.real(ps[2]),label = 'CHAN = 1x2 real')\n",
    "plt.semilogy()\n",
    "plt.ylim(1e8,1e11)\n",
    "plt.xlabel('freq')\n",
    "plt.ylabel('power')"
   ]
  },
  {
   "cell_type": "code",
   "execution_count": null,
   "metadata": {},
   "outputs": [],
   "source": [
    "# and channel 2 around galactic cut\n",
    "freq,ps = d.getPS(combs=[(0,0)], fmin=1419.0, fmax=1422, Navg=512, verbose = 0)\n",
    "plt.plot(freq,ps[0],label = 'CHAN = 0')\n",
    "plt.xlabel('freq')\n",
    "plt.ylabel('power')"
   ]
  },
  {
   "cell_type": "code",
   "execution_count": 15,
   "metadata": {},
   "outputs": [],
   "source": [
    "# now, let's pick some frequencies.\n",
    "T=d.datad0c1.shape[0]/1.1e9\n",
    "DeltaF = 1/T\n",
    "try:\n",
    "    del d.datad0c2\n",
    "    del d.datad1c1\n",
    "    del d.datad1c2\n",
    "except:\n",
    "     pass\n",
    "data= d.datad0c1.astype('float')\n",
    "try:\n",
    "    del d.datad0c1\n",
    "except:\n",
    "    pass"
   ]
  },
  {
   "cell_type": "code",
   "execution_count": null,
   "metadata": {},
   "outputs": [],
   "source": []
  }
 ],
 "metadata": {
  "kernelspec": {
   "display_name": "Bacon (BNL Astro Conda)",
   "language": "python",
   "name": "bacon"
  },
  "language_info": {
   "codemirror_mode": {
    "name": "ipython",
    "version": 3
   },
   "file_extension": ".py",
   "mimetype": "text/x-python",
   "name": "python",
   "nbconvert_exporter": "python",
   "pygments_lexer": "ipython3",
   "version": "3.8.5"
  }
 },
 "nbformat": 4,
 "nbformat_minor": 4
}
